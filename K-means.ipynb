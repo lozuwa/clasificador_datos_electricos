{
 "cells": [
  {
   "cell_type": "markdown",
   "metadata": {},
   "source": [
    "# Librerias"
   ]
  },
  {
   "cell_type": "code",
   "execution_count": 1,
   "metadata": {},
   "outputs": [],
   "source": [
    "import pandas as pd\n",
    "import numpy as np\n",
    "import matplotlib.pyplot as plt\n",
    "import pickle\n",
    "\n",
    "from sklearn.preprocessing import StandardScaler\n",
    "from sklearn.cluster import KMeans\n",
    "from collections import Counter\n",
    "from sklearn.model_selection import train_test_split\n",
    "\n",
    "from ui import UI"
   ]
  },
  {
   "cell_type": "markdown",
   "metadata": {},
   "source": [
    "# Codigo de entrenamiento"
   ]
  },
  {
   "cell_type": "code",
   "execution_count": 6,
   "metadata": {},
   "outputs": [],
   "source": [
    "def load_data():\n",
    "    \"\"\"\n",
    "    Carga de los datos\"\"\"\n",
    "    inputs= pd.read_excel('INPUT_OUTPUT_CORREGIDO.xlsx',sheet_name='INPUT')\n",
    "    inputs.drop('PSTO',axis=1,inplace=True)\n",
    "    \n",
    "    output= pd.read_excel('INPUT_OUTPUT_CORREGIDO.xlsx',sheet_name='OUTPUT')\n",
    "    return inputs,output\n",
    "\n",
    "def preprocessing_data(X_train, X_test):\n",
    "    \"\"\"\n",
    "    Preprocesamiento de los datos\"\"\"\n",
    "    scaler= StandardScaler()\n",
    "    scaler.fit(X_train)\n",
    "    X_train= scaler.transform(X_train)\n",
    "    X_test= scaler.transform(X_test)\n",
    "    return X_train, X_test"
   ]
  },
  {
   "cell_type": "markdown",
   "metadata": {},
   "source": [
    "# Carga de los datos"
   ]
  },
  {
   "cell_type": "code",
   "execution_count": 7,
   "metadata": {},
   "outputs": [],
   "source": [
    "inputs, output = load_data()\n",
    "X_train_df, X_test_df = train_test_split(inputs,test_size=0.2, random_state=0)\n",
    "X_train, X_test = preprocessing_data(X_train_df, X_test_df)"
   ]
  },
  {
   "cell_type": "markdown",
   "metadata": {},
   "source": [
    "# Elección del número de clusters"
   ]
  },
  {
   "cell_type": "code",
   "execution_count": 41,
   "metadata": {},
   "outputs": [
    {
     "data": {
      "image/png": "[encoded data removed]",
      "text/plain": [
       "<Figure size 432x288 with 1 Axes>"
      ]
     },
     "metadata": {
      "needs_background": "light"
     },
     "output_type": "display_data"
    }
   ],
   "source": [
    "n_clusters = 2\n",
    "clusters = [*range(1, n_clusters+1)]\n",
    "inertia = []\n",
    "for i in clusters:\n",
    "    kmeans = KMeans(n_clusters=i, random_state=0, init='k-means++')\n",
    "    kmeans.fit(X_train)\n",
    "    inertia.append(kmeans.inertia_) \n",
    "plt.plot(clusters, inertia)\n",
    "plt.xlabel('N° clusters')\n",
    "plt.ylabel('Inercia')\n",
    "plt.title('Inercia por N° Clusters')\n",
    "plt.show()"
   ]
  },
  {
   "cell_type": "markdown",
   "metadata": {},
   "source": [
    "# Predicción del cluster en el Train Set"
   ]
  },
  {
   "cell_type": "code",
   "execution_count": 47,
   "metadata": {},
   "outputs": [],
   "source": [
    "kmeans = KMeans(n_clusters=n_clusters, random_state=0, init='k-means++')\n",
    "x_train_predict = kmeans.fit_predict(X_train)\n",
    "train_df_predict = X_train_df.copy()\n",
    "train_df_predict['Pred_clust'] = x_train_predict"
   ]
  },
  {
   "cell_type": "code",
   "execution_count": 48,
   "metadata": {},
   "outputs": [
    {
     "name": "stdout",
     "output_type": "stream",
     "text": [
      "Número de elementos por cluster\n",
      "Counter({0: 4358, 1: 128})\n"
     ]
    }
   ],
   "source": [
    "print('Número de elementos por cluster')\n",
    "print(Counter(x_train_predict))"
   ]
  },
  {
   "cell_type": "markdown",
   "metadata": {},
   "source": [
    "# Predicción del cluster en el Test Set"
   ]
  },
  {
   "cell_type": "code",
   "execution_count": 49,
   "metadata": {},
   "outputs": [
    {
     "name": "stdout",
     "output_type": "stream",
     "text": [
      "Número de elementos por cluster\n",
      "Counter({0: 1093, 1: 29})\n"
     ]
    }
   ],
   "source": [
    "x_test_predict= kmeans.predict(X_test)\n",
    "test_df_predict= X_test_df.copy()\n",
    "test_df_predict['Pred_clust']= x_test_predict\n",
    "print('Número de elementos por cluster')\n",
    "print(Counter(x_test_predict))"
   ]
  },
  {
   "cell_type": "markdown",
   "metadata": {},
   "source": [
    "# Predicción de un nuevo dato"
   ]
  },
  {
   "cell_type": "code",
   "execution_count": 50,
   "metadata": {},
   "outputs": [
    {
     "data": {
      "application/vnd.jupyter.widget-view+json": {
       "model_id": "f96a399f147748718684c522252118b0",
       "version_major": 2,
       "version_minor": 0
      },
      "text/plain": [
       "FloatText(value=10.0, description='KVA_TOT: ')"
      ]
     },
     "metadata": {},
     "output_type": "display_data"
    },
    {
     "data": {
      "application/vnd.jupyter.widget-view+json": {
       "model_id": "ff263bf081e14537b6e4f9d9c2aac3e3",
       "version_major": 2,
       "version_minor": 0
      },
      "text/plain": [
       "FloatText(value=10.0, description='No: ')"
      ]
     },
     "metadata": {},
     "output_type": "display_data"
    },
    {
     "data": {
      "application/vnd.jupyter.widget-view+json": {
       "model_id": "4c5cffe0747c4eeb8aa07454e3b75c9a",
       "version_major": 2,
       "version_minor": 0
      },
      "text/plain": [
       "FloatText(value=148.0, description='kWh: ')"
      ]
     },
     "metadata": {},
     "output_type": "display_data"
    },
    {
     "data": {
      "application/vnd.jupyter.widget-view+json": {
       "model_id": "db41dbef6b934cdf9a7dae360d951eee",
       "version_major": 2,
       "version_minor": 0
      },
      "text/plain": [
       "FloatText(value=1.0, description='Cluster: ')"
      ]
     },
     "metadata": {},
     "output_type": "display_data"
    }
   ],
   "source": [
    "KVA_TOT = UI.create_float_text(value=10.0, name=\"KVA_TOT\")\n",
    "No = UI.create_float_text(value=10.0, name=\"No\")\n",
    "kWh = UI.create_float_text(value=148.0, name=\"kWh\")\n",
    "Cluster = UI.create_float_text(value=1.0, name=\"Cluster\")\n",
    "display(KVA_TOT)\n",
    "display(No)\n",
    "display(kWh)\n",
    "display(Cluster)"
   ]
  },
  {
   "cell_type": "code",
   "execution_count": 53,
   "metadata": {},
   "outputs": [],
   "source": [
    "new_data= np.array([[KVA_TOT.value, No.value, kWh.value, Cluster.value]])\n",
    "_,new_data= preprocessing_data(X_train_df.values, new_data)\n",
    "new_predict=kmeans.predict(new_data)"
   ]
  },
  {
   "cell_type": "code",
   "execution_count": 54,
   "metadata": {},
   "outputs": [
    {
     "name": "stdout",
     "output_type": "stream",
     "text": [
      "Cluster predecido: 0\n"
     ]
    }
   ],
   "source": [
    "print('Cluster predecido:', new_predict[0])"
   ]
  },
  {
   "cell_type": "code",
   "execution_count": null,
   "metadata": {},
   "outputs": [],
   "source": []
  }
 ],
 "metadata": {
  "kernelspec": {
   "display_name": "Python 3",
   "language": "python",
   "name": "python3"
  },
  "language_info": {
   "codemirror_mode": {
    "name": "ipython",
    "version": 3
   },
   "file_extension": ".py",
   "mimetype": "text/x-python",
   "name": "python",
   "nbconvert_exporter": "python",
   "pygments_lexer": "ipython3",
   "version": "3.7.5"
  }
 },
 "nbformat": 4,
 "nbformat_minor": 2
}
