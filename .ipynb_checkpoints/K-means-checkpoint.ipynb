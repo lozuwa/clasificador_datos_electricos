{
 "cells": [
  {
   "cell_type": "code",
   "execution_count": 1,
   "metadata": {},
   "outputs": [],
   "source": [
    "import pandas as pd\n",
    "import numpy as np\n",
    "import matplotlib.pyplot as plt\n",
    "import pickle\n",
    "\n",
    "from sklearn.preprocessing import StandardScaler\n",
    "from sklearn.cluster import KMeans\n",
    "from collections import Counter\n",
    "from sklearn.model_selection import train_test_split\n",
    "\n",
    "from ui import UI"
   ]
  },
  {
   "cell_type": "code",
   "execution_count": 2,
   "metadata": {},
   "outputs": [],
   "source": [
    "def load_data():\n",
    "    \"\"\"\n",
    "    Carga de los datos\"\"\"\n",
    "    inputs= pd.read_excel('INPUT_OUTPUT_CORREGIDO.xlsx',sheet_name='INPUT')\n",
    "    inputs.drop('PSTO',axis=1,inplace=True)\n",
    "    \n",
    "    output= pd.read_excel('INPUT_OUTPUT_CORREGIDO.xlsx',sheet_name='OUTPUT')\n",
    "    return inputs,output"
   ]
  },
  {
   "cell_type": "code",
   "execution_count": 3,
   "metadata": {},
   "outputs": [],
   "source": [
    "def preprocessing_data(X_train, X_test):\n",
    "    \"\"\"\n",
    "    Preprocesamiento de los datos\"\"\"\n",
    "    \n",
    "    scaler= StandardScaler()\n",
    "    scaler.fit(X_train)\n",
    "    X_train= scaler.transform(X_train)\n",
    "    X_test= scaler.transform(X_test)\n",
    "    \n",
    "    return X_train, X_test"
   ]
  },
  {
   "cell_type": "markdown",
   "metadata": {},
   "source": [
    "### Carga de los datos"
   ]
  },
  {
   "cell_type": "code",
   "execution_count": 4,
   "metadata": {},
   "outputs": [
    {
     "name": "stderr",
     "output_type": "stream",
     "text": [
      "C:\\Users\\PAVILION\\Anaconda3\\envs\\py36\\lib\\site-packages\\sklearn\\preprocessing\\data.py:617: DataConversionWarning: Data with input dtype int64, float64 were all converted to float64 by StandardScaler.\n",
      "  return self.partial_fit(X, y)\n",
      "C:\\Users\\PAVILION\\Anaconda3\\envs\\py36\\lib\\site-packages\\ipykernel_launcher.py:7: DataConversionWarning: Data with input dtype int64, float64 were all converted to float64 by StandardScaler.\n",
      "  import sys\n",
      "C:\\Users\\PAVILION\\Anaconda3\\envs\\py36\\lib\\site-packages\\ipykernel_launcher.py:8: DataConversionWarning: Data with input dtype int64, float64 were all converted to float64 by StandardScaler.\n",
      "  \n"
     ]
    }
   ],
   "source": [
    "inputs, output = load_data()\n",
    "\n",
    "X_train_df, X_test_df= train_test_split(inputs,test_size=0.2, random_state=0)\n",
    "\n",
    "X_train, X_test = preprocessing_data(X_train_df, X_test_df)"
   ]
  },
  {
   "cell_type": "markdown",
   "metadata": {},
   "source": [
    "### Elección del número de clusters"
   ]
  },
  {
   "cell_type": "code",
   "execution_count": 5,
   "metadata": {},
   "outputs": [],
   "source": [
    "n_clusters=10\n",
    "\n",
    "clusters= [*range(1, n_clusters+1)]\n",
    "inertia= []\n",
    "for i in clusters:\n",
    "    kmeans= KMeans(n_clusters=i, random_state=0, init= 'k-means++')\n",
    "    kmeans.fit(X_train)\n",
    "    inertia.append(kmeans.inertia_) "
   ]
  },
  {
   "cell_type": "code",
   "execution_count": 6,
   "metadata": {},
   "outputs": [
    {
     "data": {
      "image/png": "[encoded data removed]",
      "text/plain": [
       "<Figure size 432x288 with 1 Axes>"
      ]
     },
     "metadata": {
      "needs_background": "light"
     },
     "output_type": "display_data"
    }
   ],
   "source": [
    "plt.plot(clusters, inertia)\n",
    "plt.xlabel('N° clusters')\n",
    "plt.ylabel('Inercia')\n",
    "plt.title('Inercia por N° Clusters')\n",
    "plt.show()"
   ]
  },
  {
   "cell_type": "markdown",
   "metadata": {},
   "source": [
    "### Predicción del cluster en el Train Set"
   ]
  },
  {
   "cell_type": "code",
   "execution_count": 7,
   "metadata": {},
   "outputs": [],
   "source": [
    "n_cluster_chosen= 5\n",
    "kmeans= KMeans(n_clusters=n_cluster_chosen, random_state=0, init= 'k-means++')\n",
    "x_train_predict=kmeans.fit_predict(X_train)"
   ]
  },
  {
   "cell_type": "code",
   "execution_count": 8,
   "metadata": {},
   "outputs": [],
   "source": [
    "train_df_predict= X_train_df.copy()\n",
    "train_df_predict['Pred_clust']= x_train_predict"
   ]
  },
  {
   "cell_type": "code",
   "execution_count": 9,
   "metadata": {},
   "outputs": [
    {
     "name": "stdout",
     "output_type": "stream",
     "text": [
      "Número de elementos por cluster\n",
      "Counter({0: 3721, 2: 637, 4: 100, 3: 26, 1: 2})\n"
     ]
    }
   ],
   "source": [
    "print('Número de elementos por cluster')\n",
    "print(Counter(x_train_predict))"
   ]
  },
  {
   "cell_type": "markdown",
   "metadata": {},
   "source": [
    "### Predicción del cluster en el Test Set"
   ]
  },
  {
   "cell_type": "code",
   "execution_count": 10,
   "metadata": {},
   "outputs": [],
   "source": [
    "x_test_predict= kmeans.predict(X_test)\n",
    "\n",
    "test_df_predict= X_test_df.copy()\n",
    "test_df_predict['Pred_clust']= x_test_predict"
   ]
  },
  {
   "cell_type": "code",
   "execution_count": 11,
   "metadata": {},
   "outputs": [
    {
     "name": "stdout",
     "output_type": "stream",
     "text": [
      "Número de elementos por cluster\n",
      "Counter({0: 899, 2: 194, 4: 27, 3: 2})\n"
     ]
    }
   ],
   "source": [
    "print('Número de elementos por cluster')\n",
    "print(Counter(x_test_predict))"
   ]
  },
  {
   "cell_type": "markdown",
   "metadata": {},
   "source": [
    "### Predicción de un nuevo dato"
   ]
  },
  {
   "cell_type": "code",
   "execution_count": 12,
   "metadata": {},
   "outputs": [
    {
     "data": {
      "application/vnd.jupyter.widget-view+json": {
       "model_id": "04fe59693d714136bf3fd8a8acfcf1ab",
       "version_major": 2,
       "version_minor": 0
      },
      "text/plain": [
       "FloatText(value=10.0, description='KVA_TOT: ')"
      ]
     },
     "metadata": {},
     "output_type": "display_data"
    },
    {
     "data": {
      "application/vnd.jupyter.widget-view+json": {
       "model_id": "d90fdf51bea54dd28ef95b380473e63f",
       "version_major": 2,
       "version_minor": 0
      },
      "text/plain": [
       "FloatText(value=10.0, description='No: ')"
      ]
     },
     "metadata": {},
     "output_type": "display_data"
    },
    {
     "data": {
      "application/vnd.jupyter.widget-view+json": {
       "model_id": "bdeaaea352be483786cf95fb1cf09f9c",
       "version_major": 2,
       "version_minor": 0
      },
      "text/plain": [
       "FloatText(value=148.0, description='kWh: ')"
      ]
     },
     "metadata": {},
     "output_type": "display_data"
    },
    {
     "data": {
      "application/vnd.jupyter.widget-view+json": {
       "model_id": "810f340926f44cf1a4b8a874a87d1f3b",
       "version_major": 2,
       "version_minor": 0
      },
      "text/plain": [
       "FloatText(value=1.0, description='Cluster: ')"
      ]
     },
     "metadata": {},
     "output_type": "display_data"
    }
   ],
   "source": [
    "KVA_TOT = UI.create_float_text(value=10.0, name=\"KVA_TOT\")\n",
    "No = UI.create_float_text(value=10.0, name=\"No\")\n",
    "kWh = UI.create_float_text(value=148.0, name=\"kWh\")\n",
    "Cluster = UI.create_float_text(value=1.0, name=\"Cluster\")\n",
    "display(KVA_TOT)\n",
    "display(No)\n",
    "display(kWh)\n",
    "display(Cluster)"
   ]
  },
  {
   "cell_type": "code",
   "execution_count": 28,
   "metadata": {},
   "outputs": [],
   "source": [
    "new_data= np.array([[KVA_TOT.value, No.value, kWh.value, Cluster.value]])\n",
    "_,new_data= preprocessing_data(X_train_df.values, new_data)\n",
    "new_predict=kmeans.predict(new_data)"
   ]
  },
  {
   "cell_type": "code",
   "execution_count": 31,
   "metadata": {},
   "outputs": [
    {
     "name": "stdout",
     "output_type": "stream",
     "text": [
      "Cluster predecido: 0\n"
     ]
    }
   ],
   "source": [
    "print('Cluster predecido:', new_predict[0])"
   ]
  },
  {
   "cell_type": "code",
   "execution_count": null,
   "metadata": {},
   "outputs": [],
   "source": []
  }
 ],
 "metadata": {
  "kernelspec": {
   "display_name": "Python 3",
   "language": "python",
   "name": "python3"
  },
  "language_info": {
   "codemirror_mode": {
    "name": "ipython",
    "version": 3
   },
   "file_extension": ".py",
   "mimetype": "text/x-python",
   "name": "python",
   "nbconvert_exporter": "python",
   "pygments_lexer": "ipython3",
   "version": "3.7.5"
  }
 },
 "nbformat": 4,
 "nbformat_minor": 2
}
